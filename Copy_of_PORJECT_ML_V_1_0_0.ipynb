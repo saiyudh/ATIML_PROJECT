{
  "nbformat": 4,
  "nbformat_minor": 0,
  "metadata": {
    "colab": {
      "name": "Copy of PORJECT_ML_V_1_0_0.ipynb",
      "provenance": [],
      "collapsed_sections": [],
      "authorship_tag": "ABX9TyML3EZWq7Np7o7q+yV5gDq4",
      "include_colab_link": true
    },
    "kernelspec": {
      "name": "python3",
      "display_name": "Python 3"
    }
  },
  "cells": [
    {
      "cell_type": "markdown",
      "metadata": {
        "id": "view-in-github",
        "colab_type": "text"
      },
      "source": [
        "<a href=\"https://colab.research.google.com/github/saiyudh/ATIML_PROJECT/blob/master/Copy_of_PORJECT_ML_V_1_0_0.ipynb\" target=\"_parent\"><img src=\"https://colab.research.google.com/assets/colab-badge.svg\" alt=\"Open In Colab\"/></a>"
      ]
    },
    {
      "cell_type": "markdown",
      "metadata": {
        "id": "QE0OZqr83IZf",
        "colab_type": "text"
      },
      "source": [
        "[NLTK_DOCUMENTATION](http://www.nltk.org/api/nltk.html?highlight=concordance)\n",
        "\n",
        "[NLP WITH PYTHON BOOK WITH GUTENBERG AND OTHER CORPUS USE IN IT](https://books.google.com.bd/books?id=KGIbfiiP1i4C&pg=PA40&lpg=PA40&dq=gutenberg+python&source=bl&ots=Y3Goy9GHK6&hl=en&sa=X&ved=2ahUKEwi4hPnYsbHpAhXWyTgGHc6AB6gQ6AEwCHoECAoQAQ#v=onepage&q=gutenberg%20python&f=false)"
      ]
    },
    {
      "cell_type": "code",
      "metadata": {
        "id": "N2UtrxJ51Cvk",
        "colab_type": "code",
        "outputId": "51138364-6950-4619-d6d3-1e9d33410ca0",
        "colab": {
          "base_uri": "https://localhost:8080/",
          "height": 324
        }
      },
      "source": [
        "import nltk \n",
        "from nltk.corpus import gutenberg\n",
        "gutenberg.fileids()"
      ],
      "execution_count": 0,
      "outputs": [
        {
          "output_type": "execute_result",
          "data": {
            "text/plain": [
              "['austen-emma.txt',\n",
              " 'austen-persuasion.txt',\n",
              " 'austen-sense.txt',\n",
              " 'bible-kjv.txt',\n",
              " 'blake-poems.txt',\n",
              " 'bryant-stories.txt',\n",
              " 'burgess-busterbrown.txt',\n",
              " 'carroll-alice.txt',\n",
              " 'chesterton-ball.txt',\n",
              " 'chesterton-brown.txt',\n",
              " 'chesterton-thursday.txt',\n",
              " 'edgeworth-parents.txt',\n",
              " 'melville-moby_dick.txt',\n",
              " 'milton-paradise.txt',\n",
              " 'shakespeare-caesar.txt',\n",
              " 'shakespeare-hamlet.txt',\n",
              " 'shakespeare-macbeth.txt',\n",
              " 'whitman-leaves.txt']"
            ]
          },
          "metadata": {
            "tags": []
          },
          "execution_count": 6
        }
      ]
    },
    {
      "cell_type": "markdown",
      "metadata": {
        "id": "nbrxZNwC1lR_",
        "colab_type": "text"
      },
      "source": [
        "lets pick one corpus\n"
      ]
    },
    {
      "cell_type": "code",
      "metadata": {
        "id": "NLyJWvZO1SNz",
        "colab_type": "code",
        "outputId": "6049d5a4-c70d-478d-b976-013583d99a83",
        "colab": {
          "base_uri": "https://localhost:8080/",
          "height": 34
        }
      },
      "source": [
        "emma=nltk.corpus.gutenberg.words('austen-emma.txt')\n",
        "len(emma)"
      ],
      "execution_count": 0,
      "outputs": [
        {
          "output_type": "execute_result",
          "data": {
            "text/plain": [
              "192427"
            ]
          },
          "metadata": {
            "tags": []
          },
          "execution_count": 4
        }
      ]
    },
    {
      "cell_type": "markdown",
      "metadata": {
        "id": "Af3zhSfT2Iu8",
        "colab_type": "text"
      },
      "source": [
        "getting the actual text"
      ]
    },
    {
      "cell_type": "code",
      "metadata": {
        "id": "nQKLs-dC1yl-",
        "colab_type": "code",
        "outputId": "cccf6a2b-2602-4936-8c37-878d0c2316e0",
        "colab": {
          "base_uri": "https://localhost:8080/",
          "height": 460
        }
      },
      "source": [
        "emma=nltk.Text(gutenberg.words('austen-emma.txt'))\n",
        "emma.concordance('surprize')"
      ],
      "execution_count": 0,
      "outputs": [
        {
          "output_type": "stream",
          "text": [
            "Displaying 25 of 37 matches:\n",
            "er father , was sometimes taken by surprize at his being still able to pity ` \n",
            "hem do the other any good .\" \" You surprize me ! Emma must do Harriet good : a\n",
            "Knightley actually looked red with surprize and displeasure , as he stood up ,\n",
            "r . Elton , and found to his great surprize , that Mr . Elton was actually on \n",
            "d aid .\" Emma saw Mrs . Weston ' s surprize , and felt that it must be great ,\n",
            "father was quite taken up with the surprize of so sudden a journey , and his f\n",
            "y , in all the favouring warmth of surprize and conjecture . She was , moreove\n",
            "he appeared , to have her share of surprize , introduction , and pleasure . Th\n",
            "ir plans ; and it was an agreeable surprize to her , therefore , to perceive t\n",
            "talking aunt had taken me quite by surprize , it must have been the death of m\n",
            "f all the dialogue which ensued of surprize , and inquiry , and congratulation\n",
            " the present . They might chuse to surprize her .\" Mrs . Cole had many to agre\n",
            "the mode of it , the mystery , the surprize , is more like a young woman ' s s\n",
            " to her song took her agreeably by surprize -- a second , slightly but correct\n",
            "\" \" Oh ! no -- there is nothing to surprize one at all .-- A pretty fortune ; \n",
            "t to be considered . Emma ' s only surprize was that Jane Fairfax should accep\n",
            "of your admiration may take you by surprize some day or other .\" Mr . Knightle\n",
            "ation for her will ever take me by surprize .-- I never had a thought of her i\n",
            " expected by the best judges , for surprize -- but there was great joy . Mr . \n",
            " sound of at first , without great surprize . \" So unreasonably early !\" she w\n",
            "d Frank Churchill , with a look of surprize and displeasure .-- \" That is easy\n",
            "; and Emma could imagine with what surprize and mortification she must be retu\n",
            "tled that Jane should go . Quite a surprize to me ! I had not the least idea !\n",
            " . It is impossible to express our surprize . He came to speak to his father o\n",
            "g engaged !\" Emma even jumped with surprize ;-- and , horror - struck , exclai\n"
          ],
          "name": "stdout"
        }
      ]
    },
    {
      "cell_type": "markdown",
      "metadata": {
        "id": "ZBad6G1v3u5h",
        "colab_type": "text"
      },
      "source": [
        "lets view whats inside the corpus"
      ]
    },
    {
      "cell_type": "code",
      "metadata": {
        "id": "F6acHJ9A2WjA",
        "colab_type": "code",
        "outputId": "9ae69e8a-c594-4a4a-ee0d-85318a928d07",
        "colab": {
          "base_uri": "https://localhost:8080/",
          "height": 358
        }
      },
      "source": [
        "nltk.download('punkt')\n",
        "for fileid in gutenberg.fileids():\n",
        "  num_chars=len(gutenberg.raw(fileid))\n",
        "  num_words=len(gutenberg.words(fileid))\n",
        "  num_sents=len(gutenberg.sents(fileid))\n",
        "  num_vocabs=len(set([w.lower() for w in gutenberg.words(fileid)]))\n",
        "  print (int(num_chars/num_words), int(num_words/num_sents) ,int(num_words/num_vocabs) ,fileid)"
      ],
      "execution_count": 0,
      "outputs": [
        {
          "output_type": "stream",
          "text": [
            "[nltk_data] Downloading package punkt to /root/nltk_data...\n",
            "[nltk_data]   Package punkt is already up-to-date!\n",
            "4 24 26 austen-emma.txt\n",
            "4 26 16 austen-persuasion.txt\n",
            "4 28 22 austen-sense.txt\n",
            "4 33 79 bible-kjv.txt\n",
            "4 19 5 blake-poems.txt\n",
            "4 19 14 bryant-stories.txt\n",
            "4 17 12 burgess-busterbrown.txt\n",
            "4 20 12 carroll-alice.txt\n",
            "4 20 11 chesterton-ball.txt\n",
            "4 22 11 chesterton-brown.txt\n",
            "4 18 10 chesterton-thursday.txt\n",
            "4 20 24 edgeworth-parents.txt\n",
            "4 25 15 melville-moby_dick.txt\n",
            "4 52 10 milton-paradise.txt\n",
            "4 11 8 shakespeare-caesar.txt\n",
            "4 12 7 shakespeare-hamlet.txt\n",
            "4 12 6 shakespeare-macbeth.txt\n",
            "4 36 12 whitman-leaves.txt\n"
          ],
          "name": "stdout"
        }
      ]
    },
    {
      "cell_type": "code",
      "metadata": {
        "id": "Fpx03J554Gt9",
        "colab_type": "code",
        "colab": {}
      },
      "source": [
        ""
      ],
      "execution_count": 0,
      "outputs": []
    }
  ]
}